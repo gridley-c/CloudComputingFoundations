{
  "nbformat": 4,
  "nbformat_minor": 0,
  "metadata": {
    "kernelspec": {
      "display_name": "Python 3",
      "language": "python",
      "name": "python3"
    },
    "language_info": {
      "codemirror_mode": {
        "name": "ipython",
        "version": 3
      },
      "file_extension": ".py",
      "mimetype": "text/x-python",
      "name": "python",
      "nbconvert_exporter": "python",
      "pygments_lexer": "ipython3",
      "version": "3.7.6"
    },
    "colab": {
      "name": "Practice-Markdown.ipynb",
      "provenance": []
    }
  },
  "cells": [
    {
      "cell_type": "markdown",
      "metadata": {
        "id": "VuEVvV7p2rYl"
      },
      "source": [
        "## Practice Markdown"
      ]
    },
    {
      "cell_type": "markdown",
      "metadata": {
        "id": "d5MEzTR02rYv"
      },
      "source": [
        "This notebook lets you experiment with producing repeatable technical documentation.  Use this notebook to do the following actions:\n",
        "\n",
        "* Create a code cell and print a Python Hello World statement:  `print(\"hello world\")`\n",
        "* Create a Markdown Cell and add a Title using `#` and then a statement using plain text.  You can looks at the source code for this cell to get an idea of how to use Markdown.\n",
        "* Take some ideas from the [Master Markdown Github Guide](https://guides.github.com/features/mastering-markdown/) and implement them here.\n",
        "* Download this notebook as a `.ipynb` file and check into a Github Project.  You can [see an example here](https://github.com/noahgift/duke-coursera-ccf-lab1/blob/main/Practice-Markdown.ipynb).\n",
        "* Open your notebook in Google Colab and save it into the same Github Project.  You can [see an example here](https://github.com/noahgift/duke-coursera-ccf-lab1/blob/main/Practice_Markdown_with_colab.ipynb).\n"
      ]
    },
    {
      "cell_type": "code",
      "metadata": {
        "scrolled": true,
        "id": "S11N1uUh2rYw",
        "outputId": "de5a9ab3-b83a-4b21-d85a-600fe934f700"
      },
      "source": [
        "print(\"Hello, world\")"
      ],
      "execution_count": null,
      "outputs": [
        {
          "output_type": "stream",
          "text": [
            "Hello, world\n"
          ],
          "name": "stdout"
        }
      ]
    },
    {
      "cell_type": "markdown",
      "metadata": {
        "id": "u6Vj8kuN2rYz"
      },
      "source": [
        "# Title Format\n",
        "Then some plaintext for you to read. Enjoy!"
      ]
    },
    {
      "cell_type": "markdown",
      "metadata": {
        "id": "-acjzrHu2rY0"
      },
      "source": [
        "We can make words **bold** and some *italic.*"
      ]
    },
    {
      "cell_type": "markdown",
      "metadata": {
        "id": "6UMj15De2rY1"
      },
      "source": [
        "This is an <h1> tag.\n",
        "    "
      ]
    },
    {
      "cell_type": "markdown",
      "metadata": {
        "id": "jbnCC4vj2rY1"
      },
      "source": [
        "How about a list? \n",
        "Ordered:\n",
        "1. One\n",
        "2. Two\n",
        "3. Three\n",
        "\n",
        "Unordered\n",
        "* One\n",
        "* Two\n",
        "* Three\n"
      ]
    },
    {
      "cell_type": "markdown",
      "metadata": {
        "id": "bxfdRRZ22rY2"
      },
      "source": [
        "A great philosopher once said:\n",
        "\n",
        "> Naughty naughty\n",
        "> Very naughty\n"
      ]
    },
    {
      "cell_type": "code",
      "metadata": {
        "id": "1QV1YSG72rY2"
      },
      "source": [
        ""
      ],
      "execution_count": null,
      "outputs": []
    }
  ]
}